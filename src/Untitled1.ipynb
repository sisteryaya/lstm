{
 "cells": [
  {
   "cell_type": "code",
   "execution_count": 2,
   "metadata": {
    "collapsed": true
   },
   "outputs": [],
   "source": [
    "# coding=utf-8\n",
    "import numpy as np\n",
    "import tensorflow as tf\n",
    "import random\n",
    "from collections import Counter\n",
    "from nltk.tokenize import word_tokenize\n",
    "from nltk.stem import WordNetLemmatizer"
   ]
  },
  {
   "cell_type": "code",
   "execution_count": 19,
   "metadata": {
    "collapsed": true
   },
   "outputs": [],
   "source": [
    "path = r\"E:\\PycharmProjects\\untitled\\src\\main\\resource\"\n",
    "pos_file = path + r'\\pos.txt'\n",
    "neg_file = path + r'\\neg.txt'"
   ]
  },
  {
   "cell_type": "code",
   "execution_count": 31,
   "metadata": {
    "collapsed": true
   },
   "outputs": [],
   "source": [
    "def create_lexicon(pos_file, neg_file):\n",
    "    lex = []\n",
    "    english_punctuations = [',', '.', ':', ';', '?', '(', ')', '[', ']', '&', '!', '*', '@', '#', '$', '%','``']\n",
    "    stops = set(stopwords.words(\"english\"))\n",
    "    lemmatizer = WordNetLemmatizer()\n",
    "    # 读取文件\n",
    "    def process_file(f):\n",
    "        with open(pos_file, 'r') as f:\n",
    "            lex = []\n",
    "            lines = f.readlines()\n",
    "            # print(lines)\n",
    "            for line in lines:\n",
    "                # word = re.sub(\"[^a-zA-Z]\", \" \", line.lower()).split()    按空格分词，且只保留字母，大写转小写，数字符号都不要\n",
    "                text_list = word_tokenize(line.lower())  #分词，大写转小写\n",
    "                # 去掉标点符号\n",
    "                text_list = [word for word in text_list if word not in english_punctuations]\n",
    "                # 去掉停用词\n",
    "                text_list = [word for word in text_list if word not in stops]\n",
    "                # 词性还原\n",
    "                text_list = [lemmatizer.lemmatize(word) for word in text_list]\n",
    "                lex += text_list\n",
    "            return lex\n",
    "\n",
    "    lex += process_file(pos_file)\n",
    "    lex += process_file(neg_file)\n",
    "    word_count = Counter(lex)\n",
    "    # print(word_count)\n",
    "    # {'.': 13944, ',': 10536, 'the': 10120, 'a': 9444, 'and': 7108, 'of': 6624, 'it': 4748, 'to': 3940......}\n",
    "    # 去掉一些常用词,像the,a and等等，和一些不常用词; 这些词对判断一个评论是正面还是负面没有做任何贡献\n",
    "    #过滤低词频\n",
    "    lex = []\n",
    "    for word in word_count:\n",
    "        if word_count[word] < 2000 and word_count[word] > 20:  # 这写死了，好像能用百分比\n",
    "            lex.append(word)  # 齐普夫定律-使用Python验证文本的Zipf分布 http://blog.topspeedsnail.com/archives/9546\n",
    "    return lex\n",
    "lex = create_lexicon(pos_file, neg_file)"
   ]
  },
  {
   "cell_type": "code",
   "execution_count": 33,
   "metadata": {
    "collapsed": false
   },
   "outputs": [],
   "source": [
    "def normalize_dataset(lex):\n",
    "    dataset = []\n",
    "\n",
    "    # lex:词汇表；review:评论；clf:评论对应的分类，[0,1]代表负面评论 [1,0]代表正面评论\n",
    "    def string_to_vector(lex, review, clf):\n",
    "        words = word_tokenize(review.lower())\n",
    "        lemmatizer = WordNetLemmatizer()\n",
    "        words = [lemmatizer.lemmatize(word) for word in words]\n",
    "\n",
    "        features = np.zeros(len(lex))\n",
    "        for word in words:\n",
    "            if word in lex:\n",
    "                features[lex.index(word)] = 1  # 一个句子中某个词可能出现两次,可以用+=1，其实区别不大\n",
    "        return [features, clf]\n",
    "\n",
    "    with open(pos_file, 'r') as f:\n",
    "        lines = f.readlines()\n",
    "        for line in lines:\n",
    "            one_sample = string_to_vector(lex, line, [1, 0])  # [array([ 0.,  1.,  0., ...,  0.,  0.,  0.]), [1,0]]\n",
    "            dataset.append(one_sample)\n",
    "    with open(neg_file, 'r') as f:\n",
    "        lines = f.readlines()\n",
    "        for line in lines:\n",
    "            one_sample = string_to_vector(lex, line, [0, 1])  # [array([ 0.,  0.,  0., ...,  0.,  0.,  0.]), [0,1]]]\n",
    "            dataset.append(one_sample)\n",
    "\n",
    "    # print(len(dataset))\n",
    "    return dataset\n",
    "\n",
    "\n",
    "dataset = normalize_dataset(lex)"
   ]
  },
  {
   "cell_type": "code",
   "execution_count": 41,
   "metadata": {
    "collapsed": false
   },
   "outputs": [],
   "source": [
    "#把整理好的数据保存到文件，方便使用。到此完成了数据的整理工作\n",
    "import pickle\n",
    "with open('save.pickle', 'wb') as f:\n",
    "    pickle.dump(dataset, f)"
   ]
  },
  {
   "cell_type": "code",
   "execution_count": 42,
   "metadata": {
    "collapsed": true
   },
   "outputs": [],
   "source": [
    "random.shuffle(dataset)\n",
    "\n",
    "# 取样本中的10%做为测试数据\n",
    "test_size = int(len(dataset) * 0.1)\n",
    "dataset = np.array(dataset)\n",
    "train_dataset = dataset[:-test_size]\n",
    "test_dataset = dataset[-test_size:]"
   ]
  },
  {
   "cell_type": "code",
   "execution_count": 43,
   "metadata": {
    "collapsed": true
   },
   "outputs": [],
   "source": [
    "n_input_layer = len(lex)  #input\n",
    "n_layer_1 = 1000  #hidden layer\n",
    "n_layer_2 = 1000\n",
    "n_output_layer = 2   #output"
   ]
  },
  {
   "cell_type": "code",
   "execution_count": 54,
   "metadata": {
    "collapsed": false
   },
   "outputs": [],
   "source": [
    "random.shuffle(train_dataset)  # 数据集随机\n",
    "train_x = train_dataset[:, 0]  # train_x   (10662,)\n",
    "train_y = train_dataset[:, 1]  # 标签"
   ]
  },
  {
   "cell_type": "code",
   "execution_count": 56,
   "metadata": {
    "collapsed": false
   },
   "outputs": [],
   "source": [
    "\n",
    "# 定义待训练的神经网络\n",
    "def neural_network(data):\n",
    "    # 定义第一层\"神经元\"的权重和biases\n",
    "    layer_1_w_b = {'w_': tf.Variable(tf.random_normal([n_input_layer, n_layer_1])),\n",
    "                   'b_': tf.Variable(tf.random_normal([n_layer_1]))}\n",
    "    # 定义第二层\"神经元\"的权重和biases\n",
    "    layer_2_w_b = {'w_': tf.Variable(tf.random_normal([n_layer_1, n_layer_2])),\n",
    "                   'b_': tf.Variable(tf.random_normal([n_layer_2]))}\n",
    "    # 定义输出层\"神经元\"的权重和biases\n",
    "    layer_output_w_b = {'w_': tf.Variable(tf.random_normal([n_layer_2, n_output_layer])),\n",
    "                        'b_': tf.Variable(tf.random_normal([n_output_layer]))}\n",
    "\n",
    "    # w·x+b\n",
    "    layer_1 = tf.add(tf.matmul(data, layer_1_w_b['w_']), layer_1_w_b['b_'])\n",
    "    layer_1 = tf.nn.relu(layer_1)  # 激活函数\n",
    "    layer_2 = tf.add(tf.matmul(layer_1, layer_2_w_b['w_']), layer_2_w_b['b_'])\n",
    "    layer_2 = tf.nn.relu(layer_2)  # 激活函数\n",
    "    layer_output = tf.add(tf.matmul(layer_2, layer_output_w_b['w_']), layer_output_w_b['b_'])\n",
    "\n",
    "    return layer_output\n",
    "\n",
    "\n",
    "X = tf.placeholder('float', [None, len(train_dataset[0][0])])\n",
    "# [None, len(train_x)]代表数据数据的高和宽（矩阵），好处是如果数据不符合宽高，tensorflow会报错，不指定也可以。\n",
    "Y = tf.placeholder('float')\n",
    "\n"
   ]
  },
  {
   "cell_type": "code",
   "execution_count": 59,
   "metadata": {
    "collapsed": false
   },
   "outputs": [
    {
     "name": "stdout",
     "output_type": "stream",
     "text": [
      "WARNING:tensorflow:From <ipython-input-59-ae177f720fdd>:2: softmax_cross_entropy_with_logits (from tensorflow.python.ops.nn_ops) is deprecated and will be removed in a future version.\n",
      "Instructions for updating:\n",
      "\n",
      "Future major versions of TensorFlow will allow gradients to flow\n",
      "into the labels input on backprop by default.\n",
      "\n",
      "See @{tf.nn.softmax_cross_entropy_with_logits_v2}.\n",
      "\n"
     ]
    }
   ],
   "source": [
    "predict = neural_network(X)  # 得到预测结果（通过神经网络）\n",
    "cost_func = tf.reduce_mean(tf.nn.softmax_cross_entropy_with_logits(logits = predict, labels = Y))  # 定义损失函数\n",
    "optimizer = tf.train.AdamOptimizer().minimize(cost_func)\n",
    "epochs = 13  # 13次整体迭代\n",
    "batch_size = 50  "
   ]
  },
  {
   "cell_type": "code",
   "execution_count": 63,
   "metadata": {
    "collapsed": false
   },
   "outputs": [],
   "source": [
    "init=tf.global_variables_initializer()\n",
    "sess=tf.Session()\n",
    "sess.run(init)\n"
   ]
  },
  {
   "cell_type": "code",
   "execution_count": 64,
   "metadata": {
    "collapsed": true
   },
   "outputs": [],
   "source": [
    "epoch_loss = 0\n",
    "\n",
    "i = 0\n",
    "random.shuffle(train_dataset)  # 数据集随机\n",
    "train_x = train_dataset[:, 0]  # train_x   (10662,)\n",
    "train_y = train_dataset[:, 1]  # 标签"
   ]
  },
  {
   "cell_type": "code",
   "execution_count": null,
   "metadata": {
    "collapsed": false
   },
   "outputs": [],
   "source": []
  }
 ],
 "metadata": {
  "anaconda-cloud": {},
  "kernelspec": {
   "display_name": "Python [conda root]",
   "language": "python",
   "name": "conda-root-py"
  },
  "language_info": {
   "codemirror_mode": {
    "name": "ipython",
    "version": 3
   },
   "file_extension": ".py",
   "mimetype": "text/x-python",
   "name": "python",
   "nbconvert_exporter": "python",
   "pygments_lexer": "ipython3",
   "version": "3.5.2"
  }
 },
 "nbformat": 4,
 "nbformat_minor": 1
}
