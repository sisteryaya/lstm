{
 "cells": [
  {
   "cell_type": "code",
   "execution_count": 1,
   "metadata": {
    "collapsed": true
   },
   "outputs": [],
   "source": [
    "import pandas as pd\n",
    "import numpy as np\n",
    "import jieba"
   ]
  },
  {
   "cell_type": "code",
   "execution_count": 85,
   "metadata": {
    "collapsed": true
   },
   "outputs": [],
   "source": [
    "path = r\"E:\\PycharmProjects\\untitled\\src\\resource\\weibodata-train.txt\"\n",
    "df = pd.read_csv(path,delimiter=\"\\t\",header=None)\n",
    "train = df[0]"
   ]
  },
  {
   "cell_type": "code",
   "execution_count": 61,
   "metadata": {
    "collapsed": false,
    "scrolled": true
   },
   "outputs": [
    {
     "data": {
      "text/plain": [
       "0                              bang bang bang[推荐][杰克逊]\n",
       "1    周杰伦~~~最美的不是下雨天,是曾与你躲过雨的屋檐~~[c摇头萌]@思小闹腾 @Damon-...\n",
       "2    #晚安玉溪#一个勤奋的人虽然会因为他的勤奋而损害到他的见地或者精神上的清新与创意，但是他依然...\n",
       "3            所谓安全感就是：我心甘情愿地全心信任你，同时你毫无保留忠诚地珍惜我的信任。[害羞]\n",
       "4                       回复@片子方:好好吃好满足的说[花心]@ccc_chumin\n",
       "Name: 0, dtype: object"
      ]
     },
     "execution_count": 61,
     "metadata": {},
     "output_type": "execute_result"
    }
   ],
   "source": [
    "# train = train.head()\n",
    "# train"
   ]
  },
  {
   "cell_type": "code",
   "execution_count": 86,
   "metadata": {
    "collapsed": false
   },
   "outputs": [],
   "source": [
    "import codecs\n",
    "stop_path = r\"E:\\PycharmProjects\\untitled\\src\\resource\\stopWord_chinese.txt\"\n",
    "stopwords = codecs.open(stop_path,'r',encoding='gbk').readlines()\n",
    "stopwords = [ w.strip() for w in stopwords ]"
   ]
  },
  {
   "cell_type": "code",
   "execution_count": 65,
   "metadata": {
    "collapsed": false
   },
   "outputs": [
    {
     "data": {
      "text/plain": [
       "[pair('bang', 'eng'),\n",
       " pair(' ', 'x'),\n",
       " pair('bang', 'eng'),\n",
       " pair(' ', 'x'),\n",
       " pair('bang', 'eng'),\n",
       " pair('[', 'x'),\n",
       " pair('推荐', 'v'),\n",
       " pair(']', 'x'),\n",
       " pair('[', 'x'),\n",
       " pair('杰克逊', 'nr'),\n",
       " pair(']', 'x')]"
      ]
     },
     "execution_count": 65,
     "metadata": {},
     "output_type": "execute_result"
    }
   ],
   "source": [
    "d = list(psg.cut(train[0]))\n",
    "d"
   ]
  },
  {
   "cell_type": "code",
   "execution_count": 87,
   "metadata": {
    "collapsed": false,
    "scrolled": false
   },
   "outputs": [],
   "source": [
    "train_set = []\n",
    "for line in train:\n",
    "    words = psg.cut(line)\n",
    "    nword = []\n",
    "    for w in words:\n",
    "        if ((w.flag == 'n' or w.flag == 'v' or w.flag == 'a') and len(w.word) > 1) and w.word not in stopwords:\n",
    "            nword.append(w.word)\n",
    "    train_set.append(nword)\n",
    "# train_set"
   ]
  },
  {
   "cell_type": "code",
   "execution_count": 88,
   "metadata": {
    "collapsed": false
   },
   "outputs": [
    {
     "data": {
      "text/plain": [
       "<gensim.corpora.dictionary.Dictionary at 0x1ae89dbca20>"
      ]
     },
     "execution_count": 88,
     "metadata": {},
     "output_type": "execute_result"
    }
   ],
   "source": [
    "# 构建训练语料\n",
    "from gensim.corpora import Dictionary\n",
    "from gensim.models import LdaModel\n",
    "dictionary = Dictionary(train_set)\n",
    "dictionary"
   ]
  },
  {
   "cell_type": "code",
   "execution_count": 89,
   "metadata": {
    "collapsed": false
   },
   "outputs": [
    {
     "data": {
      "text/plain": [
       "<gensim.interfaces.TransformedCorpus at 0x1ae89dbb390>"
      ]
     },
     "execution_count": 89,
     "metadata": {},
     "output_type": "execute_result"
    }
   ],
   "source": [
    "from gensim import corpora, models\n",
    "corpus = [ dictionary.doc2bow(text) for text in train_set]\n",
    "tfidf = models.TfidfModel(corpus)\n",
    "corpusTfidf = tfidf[corpus]\n",
    "corpusTfidf"
   ]
  },
  {
   "cell_type": "code",
   "execution_count": 92,
   "metadata": {
    "collapsed": false,
    "scrolled": true
   },
   "outputs": [
    {
     "name": "stdout",
     "output_type": "stream",
     "text": [
      "(10, '0.016*\"吃惊\" + 0.009*\"怒骂\" + 0.005*\"眼泪\" + 0.005*\"悲傷\" + 0.004*\"不错\" + 0.004*\"老师\" + 0.004*\"僵尸\" + 0.004*\"黑线\" + 0.004*\"失望\" + 0.004*\"睿智\"')\n",
      "(34, '0.011*\"鼻屎\" + 0.004*\"盗号\" + 0.004*\"估计\" + 0.004*\"丸子\" + 0.003*\"面临\" + 0.003*\"不想\" + 0.003*\"开玩笑\" + 0.003*\"呐喊\" + 0.003*\"极限\" + 0.003*\"手机\"')\n",
      "(33, '0.009*\"感觉\" + 0.006*\"食物\" + 0.005*\"可憐\" + 0.005*\"风吹\" + 0.005*\"爆炸\" + 0.004*\"蓝色\" + 0.004*\"傻眼\" + 0.004*\"欢快\" + 0.004*\"模仿\" + 0.004*\"碉堡\"')\n",
      "(47, '0.005*\"想越\" + 0.005*\"全能\" + 0.005*\"办法\" + 0.004*\"激情\" + 0.004*\"充满\" + 0.004*\"倒霉\" + 0.004*\"奇怪\" + 0.003*\"喜欢\" + 0.003*\"兄弟\" + 0.003*\"解释\"')\n",
      "(23, '0.008*\"花心\" + 0.006*\"好看\" + 0.004*\"代表\" + 0.004*\"信仰\" + 0.004*\"老子\" + 0.004*\"车子\" + 0.004*\"建议\" + 0.003*\"低谷\" + 0.003*\"死光光\" + 0.003*\"震惊\"')\n",
      "(49, '0.008*\"干杯\" + 0.006*\"满意\" + 0.006*\"听说\" + 0.005*\"微博\" + 0.004*\"快乐\" + 0.004*\"大哭\" + 0.004*\"收到\" + 0.004*\"作揖\" + 0.004*\"蛋糕\" + 0.004*\"表扬\"')\n",
      "(5, '0.005*\"哼哼\" + 0.005*\"环境\" + 0.004*\"震惊\" + 0.004*\"偶像\" + 0.004*\"只能\" + 0.003*\"事情\" + 0.003*\"盘点\" + 0.003*\"控制\" + 0.003*\"草泥\" + 0.003*\"打人\"')\n",
      "(38, '0.007*\"干嘛\" + 0.006*\"萌翻\" + 0.004*\"支持\" + 0.004*\"觉醒\" + 0.004*\"友好\" + 0.004*\"喜欢\" + 0.004*\"眼光\" + 0.004*\"回复\" + 0.003*\"开心\" + 0.003*\"天堂\"')\n",
      "(10, '0.016*\"吃惊\" + 0.009*\"怒骂\" + 0.005*\"眼泪\" + 0.005*\"悲傷\" + 0.004*\"不错\" + 0.004*\"老师\" + 0.004*\"僵尸\" + 0.004*\"黑线\" + 0.004*\"失望\" + 0.004*\"睿智\"')\n",
      "(38, '0.007*\"干嘛\" + 0.006*\"萌翻\" + 0.004*\"支持\" + 0.004*\"觉醒\" + 0.004*\"友好\" + 0.004*\"喜欢\" + 0.004*\"眼光\" + 0.004*\"回复\" + 0.003*\"开心\" + 0.003*\"天堂\"')\n",
      "(32, '0.008*\"滚蛋\" + 0.005*\"膜拜\" + 0.004*\"争气\" + 0.003*\"湖人\" + 0.003*\"杂种\" + 0.003*\"话筒\" + 0.003*\"汽车\" + 0.003*\"作家\" + 0.003*\"少惹\" + 0.003*\"申请\"')\n",
      "(39, '0.008*\"愤怒\" + 0.006*\"办法\" + 0.005*\"不出\" + 0.004*\"优雅\" + 0.004*\"毒打\" + 0.003*\"拯救\" + 0.003*\"加油\" + 0.003*\"赛事\" + 0.003*\"片子\" + 0.003*\"留给\"')\n",
      "(13, '0.023*\"怒骂\" + 0.006*\"感动\" + 0.006*\"记得\" + 0.006*\"时光\" + 0.005*\"抓狂\" + 0.005*\"笑容\" + 0.004*\"宿舍\" + 0.004*\"欺负\" + 0.004*\"大厦\" + 0.004*\"科研\"')\n",
      "(33, '0.009*\"感觉\" + 0.006*\"食物\" + 0.005*\"可憐\" + 0.005*\"风吹\" + 0.005*\"爆炸\" + 0.004*\"蓝色\" + 0.004*\"傻眼\" + 0.004*\"欢快\" + 0.004*\"模仿\" + 0.004*\"碉堡\"')\n",
      "(33, '0.009*\"感觉\" + 0.006*\"食物\" + 0.005*\"可憐\" + 0.005*\"风吹\" + 0.005*\"爆炸\" + 0.004*\"蓝色\" + 0.004*\"傻眼\" + 0.004*\"欢快\" + 0.004*\"模仿\" + 0.004*\"碉堡\"')\n",
      "(38, '0.007*\"干嘛\" + 0.006*\"萌翻\" + 0.004*\"支持\" + 0.004*\"觉醒\" + 0.004*\"友好\" + 0.004*\"喜欢\" + 0.004*\"眼光\" + 0.004*\"回复\" + 0.003*\"开心\" + 0.003*\"天堂\"')\n",
      "(37, '0.009*\"大笑\" + 0.005*\"猫咪\" + 0.005*\"乐观\" + 0.004*\"甜美\" + 0.004*\"臭死\" + 0.004*\"总能\" + 0.004*\"滚出\" + 0.004*\"抓狂\" + 0.004*\"强暴\" + 0.003*\"没空\"')\n",
      "(6, '0.005*\"早起\" + 0.004*\"去死吧\" + 0.004*\"加油\" + 0.004*\"好好看\" + 0.004*\"厚脸皮\" + 0.003*\"盒子\" + 0.003*\"奔驰\" + 0.003*\"渴望\" + 0.003*\"心寒\" + 0.003*\"年少\"')\n",
      "(12, '0.007*\"音乐\" + 0.006*\"玫瑰\" + 0.004*\"打死\" + 0.004*\"瑜伽\" + 0.004*\"夸奖\" + 0.004*\"掐死\" + 0.003*\"覺得\" + 0.003*\"得意\" + 0.003*\"颜值\" + 0.003*\"跳舞\"')\n",
      "(34, '0.011*\"鼻屎\" + 0.004*\"盗号\" + 0.004*\"估计\" + 0.004*\"丸子\" + 0.003*\"面临\" + 0.003*\"不想\" + 0.003*\"开玩笑\" + 0.003*\"呐喊\" + 0.003*\"极限\" + 0.003*\"手机\"')\n"
     ]
    }
   ],
   "source": [
    "lda = models.ldamodel.LdaModel(corpus=corpusTfidf, id2word=dictionary, num_topics=50, update_every=1, chunksize=10000,\n",
    "                               passes=1)\n",
    "# 提取前面20个主题\n",
    "for i in range(0, 20):\n",
    "    print(lda.print_topics(i)[0])"
   ]
  },
  {
   "cell_type": "code",
   "execution_count": 90,
   "metadata": {
    "collapsed": false
   },
   "outputs": [],
   "source": []
  },
  {
   "cell_type": "code",
   "execution_count": 93,
   "metadata": {
    "collapsed": false
   },
   "outputs": [],
   "source": [
    "path = r\"E:\\PycharmProjects\\untitled\\src\\resource\\new_trian.txt\"\n",
    "df = pd.read_csv(path,delimiter=\"\\t\",header=None)\n",
    "nwordall = df[0]\n",
    "sentences = models.word2vec.LineSentence(nwordall)"
   ]
  },
  {
   "cell_type": "code",
   "execution_count": 95,
   "metadata": {
    "collapsed": false
   },
   "outputs": [
    {
     "ename": "TypeError",
     "evalue": "don't know how to handle uri 0                                      bangbangbang 推荐 杰克逊\n1                              周杰伦 最 美 下雨天 曾 躲 雨 屋檐 c 摇头 萌\n2                         勤奋 人 勤奋 损害 见地 精神 清新 创意 依然 褒奖 尼 采\n3                           安全感 心甘情愿 全 心 信任 保留 忠诚 珍惜 信任 害羞\n4                                                       回复\n5        霸道 总裁 设定 真 吃 厌 苏苏苏 苏苏苏 苏苏苏 bm 卖 萌 bm 卖 萌 bm 卖 ...\n6                                  相 最初 面貌 挤 眼 高兴 遇见 纪录 样子\n7         朋友 圈 里 白富美 前途 角色 好 好 演 非 假扮 高 智商 创业者 误 智商 颜值成 正比\n8        须知 写 言情小说 女人 般 战士 理想 现实 界线 分 清楚 安妮 宝贝 男人 怀孕 只用...\n9        加油 晴 子 小子 理睬 彩 子 性命 赌 篮球 多么 勇敢 多么 可怜 五十 人 甩 世界...\n10                路途 遇见 香港 两位 骑 行者 真心 羡慕 加 钦佩 送 最 祝福 3号 拉萨\n11       阿刊 喜欢 冒险 刺激 人 面对 困难 勇于 面对 克服 人 面对 流言蜚语 不屑 搭理 人...\n12       健身 重 自强不息 力量 肌肉 只 表面 锻炼 人 意志 力 自制力 承受力 自信心 一种 ...\n13                      国 军 将领 夫人 个个 气质 非凡 军 夫人 个个 歪 瓜 裂 枣\n14       不知 道 离去 风 告诉 归期 风景 隐 生命 中 片段 留 记忆 阳光 下 想起 美丽 次...\n15                                     期待 华为 创造 令人瞩目 成绩 威武\n16                                 权力 迫害 只 使 人 坚强 渴望 法律 公正\n17       里 欢喜 各式各样 牛排 轮番 轰炸 味蕾 高 颜值寿 司 眼前 乱 晃 小 清新 寿司 狂...\n18       张鸣 胡说八道 农民 炕席 黑龙江 炕席 农民 说 炕席 农民 讲究 文革 好不 好 经历 ...\n19                             年少 轻狂 莽撞 视死如归 遇见 渴望 长 命 zxl\n20       建筑 学院 同学 带来 歌曲 中国 军魂 西亚 斯 首歌 曲调 风格 气 势 畏 艰辛 视死...\n21                                                尽情 嗨 好 棒\n22                      常年 社团 聚会 迟到 两个 小时 晚 小时 交口称赞 说 迟到 福\n23                   妹 弹 童话 差 消费 c 甩 舌头 c 甩 舌头 c 甩 舌头 早餐 吃\n24                                        c 坏 笑 冰雪 奇迹 好 期待\n25                                          恩典 慈爱 全能 上帝 谢谢\n26                                          zhuangbi 特别 鸣谢\n27           举杯 参与 压抑 内心 激情 站 干 一杯 青岛 啤酒 赛事 中 激情 喝彩 激情 链 接\n28       直觉 这次 毕业 开 起码 感伤 宿舍 说话 回声 导师 含泪 道别 双眼 模糊 舍 沈阳 ...\n29         时时 警醒 按压 住 颗 自以为是 聪明 只 想 出风头 心 愚蠢 静谧 人生 细细 品味 🍵\n                               ...                        \n13048    传承 粤剧 文化 挖掘 引 人 处 入 校园 粤剧 复兴 有望 男 神 执 稿 真 无懈可击...\n13049    吃 高淳固 城 湖 螃蟹 最 好 去处 湖 船舶 酒家 螃蟹 养 湖水 里 清楚 满意 捞 ...\n13050    郭靖阿 甘 巴菲特 类 人 年轻 塑造 优秀 人 品质 简单 正直 私心 坚忍不拔 成功 聪...\n13051                    mvp 当之无愧 只能 说 投票 记者 瞎 狗 眼 哈哈哈 哈哈哈\n13052    人间 自有 正义 正义 必胜 拥护 习 总 党中央 运筹帷幄 赢 军事 经济 心理 战 网络...\n13053                                       卧 槽 医生 病 转发 转发\n13054                                             好 帅好好 开心\n13055    一事无成 随波逐流 思 上进 死 爱面子 畏惧 父母 做 天生 脆弱 只 想 班 部 工作 ...\n13056                                         音乐 值得 好 推广 赞\n13057    法语 实用 口语 表达 后悔 懊恼 ahacestcon 真 蠢 cestb ê te 真 ...\n13058    谋事 人 成事 实习 平 总书记 指出 谋 事 实 出发 谋划 事业 工作 使 点子 政策 ...\n13059                                      特 先 一顿 怒骂 怒骂 怒骂\n13060    北京 欧林 时代 文化 传播 中心 摄影 作品 陈丹青 中国 画家 文艺 评论家 祖籍 广东...\n13061    各类 媒体 速度 一刀切 广电 媒体 道德 绑架 拍 胸脯 直播 官方 最 准确 信 源 新...\n13062                       万能 菜 头 哥 请问 运筹帷幄 决胜 千里 翻译 最 优美\n13063    绿豆 说 身价 涨 请 豆 玩 食盐 说 身价 涨 请 盐 王爷 煤炭 说 身价 涨 请 煤...\n13064    骄傲 现实 大海 冷 冷 拍 下 懂得 努力 走 远方 梦想 坠落 悬崖 千钧一发 晓得 执...\n13065                                   九层 妖 塔 30 骷髅 骷髅 骷髅\n13066    点评 昨晚 银监会 部委 出台 政策 力 挺 上市 公司 兼并 重组 现金 分红 建立 股 ...\n13067                               久 见见 换 座位 倚老卖老 换 房子 拜拜\n13068    诚信 研究 － 星期二 英国 东安 吉利 亚 大学 发布 研究 报告 称 15个 国家 参与...\n13069                  班 学校 做 贡献 乱 诽谤 班 出名 班 好 一道 闪电 亮 瞎 眼\n13070                                    尊重 自然 心怀 敬畏 自然 善待\n13071                                            车 点 小 吃 惊\n13072    自古 鸟 受 人 崇敬 古代 人类 高山 大河 天堑 阻隔 活动 受限 梦想 飞 蓝天 自由...\n13073    位 同学 受伤 人品 烂 爆发 微博 求 人品 保佑 否 泰 友情 提示 好奇心 重 童 鞋...\n13074                                            妈妈 节日 乐呵呵\n13075                  考 完 一门 课 收拾 东西 滚蛋 goodbye 大学 学生 泪 泪\n13076    感恩节 感恩 生命 中 人 亲人 朋友 只 缘 至今 曾 感恩 爱心 宽容 生活 点点滴滴 ...\n13077                                               孩子 美 死\nName: 0, dtype: object",
     "traceback": [
      "\u001b[0;31m---------------------------------------------------------------------------\u001b[0m",
      "\u001b[0;31mAttributeError\u001b[0m                            Traceback (most recent call last)",
      "\u001b[0;32mE:\\Anaconda3\\lib\\site-packages\\gensim\\models\\word2vec.py\u001b[0m in \u001b[0;36m__iter__\u001b[0;34m(self)\u001b[0m\n\u001b[1;32m   1374\u001b[0m             \u001b[1;31m# Things that don't have seek will trigger an exception\u001b[0m\u001b[1;33m\u001b[0m\u001b[1;33m\u001b[0m\u001b[0m\n\u001b[0;32m-> 1375\u001b[0;31m             \u001b[0mself\u001b[0m\u001b[1;33m.\u001b[0m\u001b[0msource\u001b[0m\u001b[1;33m.\u001b[0m\u001b[0mseek\u001b[0m\u001b[1;33m(\u001b[0m\u001b[1;36m0\u001b[0m\u001b[1;33m)\u001b[0m\u001b[1;33m\u001b[0m\u001b[0m\n\u001b[0m\u001b[1;32m   1376\u001b[0m             \u001b[1;32mfor\u001b[0m \u001b[0mline\u001b[0m \u001b[1;32min\u001b[0m \u001b[0mitertools\u001b[0m\u001b[1;33m.\u001b[0m\u001b[0mislice\u001b[0m\u001b[1;33m(\u001b[0m\u001b[0mself\u001b[0m\u001b[1;33m.\u001b[0m\u001b[0msource\u001b[0m\u001b[1;33m,\u001b[0m \u001b[0mself\u001b[0m\u001b[1;33m.\u001b[0m\u001b[0mlimit\u001b[0m\u001b[1;33m)\u001b[0m\u001b[1;33m:\u001b[0m\u001b[1;33m\u001b[0m\u001b[0m\n",
      "\u001b[0;32mE:\\Anaconda3\\lib\\site-packages\\pandas\\core\\generic.py\u001b[0m in \u001b[0;36m__getattr__\u001b[0;34m(self, name)\u001b[0m\n\u001b[1;32m   2671\u001b[0m                 \u001b[1;32mreturn\u001b[0m \u001b[0mself\u001b[0m\u001b[1;33m[\u001b[0m\u001b[0mname\u001b[0m\u001b[1;33m]\u001b[0m\u001b[1;33m\u001b[0m\u001b[0m\n\u001b[0;32m-> 2672\u001b[0;31m             \u001b[1;32mreturn\u001b[0m \u001b[0mobject\u001b[0m\u001b[1;33m.\u001b[0m\u001b[0m__getattribute__\u001b[0m\u001b[1;33m(\u001b[0m\u001b[0mself\u001b[0m\u001b[1;33m,\u001b[0m \u001b[0mname\u001b[0m\u001b[1;33m)\u001b[0m\u001b[1;33m\u001b[0m\u001b[0m\n\u001b[0m\u001b[1;32m   2673\u001b[0m \u001b[1;33m\u001b[0m\u001b[0m\n",
      "\u001b[0;31mAttributeError\u001b[0m: 'Series' object has no attribute 'seek'",
      "\nDuring handling of the above exception, another exception occurred:\n",
      "\u001b[0;31mTypeError\u001b[0m                                 Traceback (most recent call last)",
      "\u001b[0;32m<ipython-input-95-2f51e62c0102>\u001b[0m in \u001b[0;36m<module>\u001b[0;34m()\u001b[0m\n\u001b[0;32m----> 1\u001b[0;31m \u001b[0mlist\u001b[0m\u001b[1;33m(\u001b[0m\u001b[0msentences\u001b[0m\u001b[1;33m)\u001b[0m\u001b[1;33m\u001b[0m\u001b[0m\n\u001b[0m",
      "\u001b[0;32mE:\\Anaconda3\\lib\\site-packages\\gensim\\models\\word2vec.py\u001b[0m in \u001b[0;36m__iter__\u001b[0;34m(self)\u001b[0m\n\u001b[1;32m   1382\u001b[0m         \u001b[1;32mexcept\u001b[0m \u001b[0mAttributeError\u001b[0m\u001b[1;33m:\u001b[0m\u001b[1;33m\u001b[0m\u001b[0m\n\u001b[1;32m   1383\u001b[0m             \u001b[1;31m# If it didn't work like a file, use it as a string filename\u001b[0m\u001b[1;33m\u001b[0m\u001b[1;33m\u001b[0m\u001b[0m\n\u001b[0;32m-> 1384\u001b[0;31m             \u001b[1;32mwith\u001b[0m \u001b[0mutils\u001b[0m\u001b[1;33m.\u001b[0m\u001b[0msmart_open\u001b[0m\u001b[1;33m(\u001b[0m\u001b[0mself\u001b[0m\u001b[1;33m.\u001b[0m\u001b[0msource\u001b[0m\u001b[1;33m)\u001b[0m \u001b[1;32mas\u001b[0m \u001b[0mfin\u001b[0m\u001b[1;33m:\u001b[0m\u001b[1;33m\u001b[0m\u001b[0m\n\u001b[0m\u001b[1;32m   1385\u001b[0m                 \u001b[1;32mfor\u001b[0m \u001b[0mline\u001b[0m \u001b[1;32min\u001b[0m \u001b[0mitertools\u001b[0m\u001b[1;33m.\u001b[0m\u001b[0mislice\u001b[0m\u001b[1;33m(\u001b[0m\u001b[0mfin\u001b[0m\u001b[1;33m,\u001b[0m \u001b[0mself\u001b[0m\u001b[1;33m.\u001b[0m\u001b[0mlimit\u001b[0m\u001b[1;33m)\u001b[0m\u001b[1;33m:\u001b[0m\u001b[1;33m\u001b[0m\u001b[0m\n\u001b[1;32m   1386\u001b[0m                     \u001b[0mline\u001b[0m \u001b[1;33m=\u001b[0m \u001b[0mutils\u001b[0m\u001b[1;33m.\u001b[0m\u001b[0mto_unicode\u001b[0m\u001b[1;33m(\u001b[0m\u001b[0mline\u001b[0m\u001b[1;33m)\u001b[0m\u001b[1;33m.\u001b[0m\u001b[0msplit\u001b[0m\u001b[1;33m(\u001b[0m\u001b[1;33m)\u001b[0m\u001b[1;33m\u001b[0m\u001b[0m\n",
      "\u001b[0;32mE:\\Anaconda3\\lib\\site-packages\\smart_open\\smart_open_lib.py\u001b[0m in \u001b[0;36msmart_open\u001b[0;34m(uri, mode, **kw)\u001b[0m\n\u001b[1;32m    229\u001b[0m     \u001b[1;32mexcept\u001b[0m \u001b[0mKeyError\u001b[0m\u001b[1;33m:\u001b[0m\u001b[1;33m\u001b[0m\u001b[0m\n\u001b[1;32m    230\u001b[0m         \u001b[0mbinary_mode\u001b[0m \u001b[1;33m=\u001b[0m \u001b[0mmode\u001b[0m\u001b[1;33m\u001b[0m\u001b[0m\n\u001b[0;32m--> 231\u001b[0;31m     \u001b[0mbinary\u001b[0m\u001b[1;33m,\u001b[0m \u001b[0mfilename\u001b[0m \u001b[1;33m=\u001b[0m \u001b[0m_open_binary_stream\u001b[0m\u001b[1;33m(\u001b[0m\u001b[0muri\u001b[0m\u001b[1;33m,\u001b[0m \u001b[0mbinary_mode\u001b[0m\u001b[1;33m,\u001b[0m \u001b[1;33m**\u001b[0m\u001b[0mkw\u001b[0m\u001b[1;33m)\u001b[0m\u001b[1;33m\u001b[0m\u001b[0m\n\u001b[0m\u001b[1;32m    232\u001b[0m     \u001b[1;32mif\u001b[0m \u001b[0mignore_extension\u001b[0m\u001b[1;33m:\u001b[0m\u001b[1;33m\u001b[0m\u001b[0m\n\u001b[1;32m    233\u001b[0m         \u001b[0mdecompressed\u001b[0m \u001b[1;33m=\u001b[0m \u001b[0mbinary\u001b[0m\u001b[1;33m\u001b[0m\u001b[0m\n",
      "\u001b[0;32mE:\\Anaconda3\\lib\\site-packages\\smart_open\\smart_open_lib.py\u001b[0m in \u001b[0;36m_open_binary_stream\u001b[0;34m(uri, mode, **kw)\u001b[0m\n\u001b[1;32m    361\u001b[0m         \u001b[1;32mreturn\u001b[0m \u001b[0muri\u001b[0m\u001b[1;33m,\u001b[0m \u001b[0mfilename\u001b[0m\u001b[1;33m\u001b[0m\u001b[0m\n\u001b[1;32m    362\u001b[0m     \u001b[1;32melse\u001b[0m\u001b[1;33m:\u001b[0m\u001b[1;33m\u001b[0m\u001b[0m\n\u001b[0;32m--> 363\u001b[0;31m         \u001b[1;32mraise\u001b[0m \u001b[0mTypeError\u001b[0m\u001b[1;33m(\u001b[0m\u001b[1;34m'don\\'t know how to handle uri %s'\u001b[0m \u001b[1;33m%\u001b[0m \u001b[0mrepr\u001b[0m\u001b[1;33m(\u001b[0m\u001b[0muri\u001b[0m\u001b[1;33m)\u001b[0m\u001b[1;33m)\u001b[0m\u001b[1;33m\u001b[0m\u001b[0m\n\u001b[0m\u001b[1;32m    364\u001b[0m \u001b[1;33m\u001b[0m\u001b[0m\n\u001b[1;32m    365\u001b[0m \u001b[1;33m\u001b[0m\u001b[0m\n",
      "\u001b[0;31mTypeError\u001b[0m: don't know how to handle uri 0                                      bangbangbang 推荐 杰克逊\n1                              周杰伦 最 美 下雨天 曾 躲 雨 屋檐 c 摇头 萌\n2                         勤奋 人 勤奋 损害 见地 精神 清新 创意 依然 褒奖 尼 采\n3                           安全感 心甘情愿 全 心 信任 保留 忠诚 珍惜 信任 害羞\n4                                                       回复\n5        霸道 总裁 设定 真 吃 厌 苏苏苏 苏苏苏 苏苏苏 bm 卖 萌 bm 卖 萌 bm 卖 ...\n6                                  相 最初 面貌 挤 眼 高兴 遇见 纪录 样子\n7         朋友 圈 里 白富美 前途 角色 好 好 演 非 假扮 高 智商 创业者 误 智商 颜值成 正比\n8        须知 写 言情小说 女人 般 战士 理想 现实 界线 分 清楚 安妮 宝贝 男人 怀孕 只用...\n9        加油 晴 子 小子 理睬 彩 子 性命 赌 篮球 多么 勇敢 多么 可怜 五十 人 甩 世界...\n10                路途 遇见 香港 两位 骑 行者 真心 羡慕 加 钦佩 送 最 祝福 3号 拉萨\n11       阿刊 喜欢 冒险 刺激 人 面对 困难 勇于 面对 克服 人 面对 流言蜚语 不屑 搭理 人...\n12       健身 重 自强不息 力量 肌肉 只 表面 锻炼 人 意志 力 自制力 承受力 自信心 一种 ...\n13                      国 军 将领 夫人 个个 气质 非凡 军 夫人 个个 歪 瓜 裂 枣\n14       不知 道 离去 风 告诉 归期 风景 隐 生命 中 片段 留 记忆 阳光 下 想起 美丽 次...\n15                                     期待 华为 创造 令人瞩目 成绩 威武\n16                                 权力 迫害 只 使 人 坚强 渴望 法律 公正\n17       里 欢喜 各式各样 牛排 轮番 轰炸 味蕾 高 颜值寿 司 眼前 乱 晃 小 清新 寿司 狂...\n18       张鸣 胡说八道 农民 炕席 黑龙江 炕席 农民 说 炕席 农民 讲究 文革 好不 好 经历 ...\n19                             年少 轻狂 莽撞 视死如归 遇见 渴望 长 命 zxl\n20       建筑 学院 同学 带来 歌曲 中国 军魂 西亚 斯 首歌 曲调 风格 气 势 畏 艰辛 视死...\n21                                                尽情 嗨 好 棒\n22                      常年 社团 聚会 迟到 两个 小时 晚 小时 交口称赞 说 迟到 福\n23                   妹 弹 童话 差 消费 c 甩 舌头 c 甩 舌头 c 甩 舌头 早餐 吃\n24                                        c 坏 笑 冰雪 奇迹 好 期待\n25                                          恩典 慈爱 全能 上帝 谢谢\n26                                          zhuangbi 特别 鸣谢\n27           举杯 参与 压抑 内心 激情 站 干 一杯 青岛 啤酒 赛事 中 激情 喝彩 激情 链 接\n28       直觉 这次 毕业 开 起码 感伤 宿舍 说话 回声 导师 含泪 道别 双眼 模糊 舍 沈阳 ...\n29         时时 警醒 按压 住 颗 自以为是 聪明 只 想 出风头 心 愚蠢 静谧 人生 细细 品味 🍵\n                               ...                        \n13048    传承 粤剧 文化 挖掘 引 人 处 入 校园 粤剧 复兴 有望 男 神 执 稿 真 无懈可击...\n13049    吃 高淳固 城 湖 螃蟹 最 好 去处 湖 船舶 酒家 螃蟹 养 湖水 里 清楚 满意 捞 ...\n13050    郭靖阿 甘 巴菲特 类 人 年轻 塑造 优秀 人 品质 简单 正直 私心 坚忍不拔 成功 聪...\n13051                    mvp 当之无愧 只能 说 投票 记者 瞎 狗 眼 哈哈哈 哈哈哈\n13052    人间 自有 正义 正义 必胜 拥护 习 总 党中央 运筹帷幄 赢 军事 经济 心理 战 网络...\n13053                                       卧 槽 医生 病 转发 转发\n13054                                             好 帅好好 开心\n13055    一事无成 随波逐流 思 上进 死 爱面子 畏惧 父母 做 天生 脆弱 只 想 班 部 工作 ...\n13056                                         音乐 值得 好 推广 赞\n13057    法语 实用 口语 表达 后悔 懊恼 ahacestcon 真 蠢 cestb ê te 真 ...\n13058    谋事 人 成事 实习 平 总书记 指出 谋 事 实 出发 谋划 事业 工作 使 点子 政策 ...\n13059                                      特 先 一顿 怒骂 怒骂 怒骂\n13060    北京 欧林 时代 文化 传播 中心 摄影 作品 陈丹青 中国 画家 文艺 评论家 祖籍 广东...\n13061    各类 媒体 速度 一刀切 广电 媒体 道德 绑架 拍 胸脯 直播 官方 最 准确 信 源 新...\n13062                       万能 菜 头 哥 请问 运筹帷幄 决胜 千里 翻译 最 优美\n13063    绿豆 说 身价 涨 请 豆 玩 食盐 说 身价 涨 请 盐 王爷 煤炭 说 身价 涨 请 煤...\n13064    骄傲 现实 大海 冷 冷 拍 下 懂得 努力 走 远方 梦想 坠落 悬崖 千钧一发 晓得 执...\n13065                                   九层 妖 塔 30 骷髅 骷髅 骷髅\n13066    点评 昨晚 银监会 部委 出台 政策 力 挺 上市 公司 兼并 重组 现金 分红 建立 股 ...\n13067                               久 见见 换 座位 倚老卖老 换 房子 拜拜\n13068    诚信 研究 － 星期二 英国 东安 吉利 亚 大学 发布 研究 报告 称 15个 国家 参与...\n13069                  班 学校 做 贡献 乱 诽谤 班 出名 班 好 一道 闪电 亮 瞎 眼\n13070                                    尊重 自然 心怀 敬畏 自然 善待\n13071                                            车 点 小 吃 惊\n13072    自古 鸟 受 人 崇敬 古代 人类 高山 大河 天堑 阻隔 活动 受限 梦想 飞 蓝天 自由...\n13073    位 同学 受伤 人品 烂 爆发 微博 求 人品 保佑 否 泰 友情 提示 好奇心 重 童 鞋...\n13074                                            妈妈 节日 乐呵呵\n13075                  考 完 一门 课 收拾 东西 滚蛋 goodbye 大学 学生 泪 泪\n13076    感恩节 感恩 生命 中 人 亲人 朋友 只 缘 至今 曾 感恩 爱心 宽容 生活 点点滴滴 ...\n13077                                               孩子 美 死\nName: 0, dtype: object"
     ],
     "output_type": "error"
    }
   ],
   "source": [
    "list(sentences)"
   ]
  }
 ],
 "metadata": {
  "anaconda-cloud": {},
  "kernelspec": {
   "display_name": "Python [conda root]",
   "language": "python",
   "name": "conda-root-py"
  },
  "language_info": {
   "codemirror_mode": {
    "name": "ipython",
    "version": 3
   },
   "file_extension": ".py",
   "mimetype": "text/x-python",
   "name": "python",
   "nbconvert_exporter": "python",
   "pygments_lexer": "ipython3",
   "version": "3.5.2"
  }
 },
 "nbformat": 4,
 "nbformat_minor": 1
}
